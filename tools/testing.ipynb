{
 "cells": [
  {
   "cell_type": "code",
   "execution_count": 1,
   "metadata": {},
   "outputs": [],
   "source": [
    "from exa import basic_search"
   ]
  },
  {
   "cell_type": "code",
   "execution_count": 2,
   "metadata": {},
   "outputs": [],
   "source": [
    "### FIRST TASK - GET THE SEARCH FUNCTIONALITY GOOD ENOUGH SO THAT CURSOR AGENT CAN USE IT TO GET DOCS AND WRITE OUT THE REST OF THIS REPO"
   ]
  },
  {
   "cell_type": "code",
   "execution_count": 3,
   "metadata": {},
   "outputs": [],
   "source": [
    "response = basic_search(\"Are cats as loyal as dogs?\")"
   ]
  },
  {
   "cell_type": "code",
   "execution_count": 5,
   "metadata": {},
   "outputs": [
    {
     "data": {
      "text/plain": [
       "[SearchResult(title='Are Cats as Loyal as Dogs? - Petfinder', url='https://www.petfinder.com/cats-and-kittens/behavior/socializing/loyalty-day-are-cats-as-loyal-as-dogs/', published_date='2024-05-01T12:00:00.000Z'),\n",
       " SearchResult(title='Are cats as loyal as dogs? - Quora', url='https://www.quora.com/Are-cats-as-loyal-as-dogs', published_date='2016-05-04T12:00:00.000Z'),\n",
       " SearchResult(title='Cats are are as loyal (if not more) than dogs : r/unpopularopinion', url='https://www.reddit.com/r/unpopularopinion/comments/80a0l9/cats_are_are_as_loyal_if_not_more_than_dogs/', published_date='2018-02-26T12:00:00.000Z'),\n",
       " SearchResult(title='Cats are just as loyal to their owners as dogs, study finds', url='https://www.the-independent.com/life-style/cats-loyal-owners-dogs-behaviour-myth-a9118496.html', published_date='2019-09-24T12:00:00.000Z'),\n",
       " SearchResult(title=\"Cats are just as loyal as dogs, says research debunking 'aloof' myth\", url='https://www.standard.co.uk/news/uk/cats-are-just-as-loyal-as-dogs-according-to-new-research-debunking-aloof-myth-a4244646.html', published_date='2019-09-24T12:00:00.000Z'),\n",
       " SearchResult(title='Cats are too socially inept to be loyal - Live Science', url='https://www.livescience.com/cats-do-not-distinguish-human-enemies-friends.html', published_date='2021-03-02T12:00:00.000Z'),\n",
       " SearchResult(title='Are cats as loyal as dogs? - Pet care/dog experts/cat experts - Quora', url='https://dogdaycaredogexperts.quora.com/Are-cats-as-loyal-as-dogs', published_date='2021-08-05T12:00:00.000Z'),\n",
       " SearchResult(title='Are Cats Loyal? What Science Says - Catster', url='https://www.catster.com/lifestyle/are-cats-loyal/', published_date='2024-08-30T12:00:00.000Z'),\n",
       " SearchResult(title='Cats Are Just As Loyal To Their Humans As Dogs, Study Finds', url='https://www.meowingtons.com/blogs/lolcats/cats-are-just-as-loyal-to-their-humans-as-dogs-study-finds?srsltid=AfmBOoq7-RbsvOELn7DkExBXQXUKwXlAkmeMj8JOGGY508oSUwDCqIiL', published_date='2020-07-16T12:00:00.000Z'),\n",
       " SearchResult(title='Your Cat Is As Loyal to You as a Dog, According to This Study', url='https://www.apartmenttherapy.com/cats-loyal-study-36661433', published_date='2019-10-28T12:00:00.000Z')]"
      ]
     },
     "execution_count": 5,
     "metadata": {},
     "output_type": "execute_result"
    }
   ],
   "source": [
    "response"
   ]
  },
  {
   "cell_type": "code",
   "execution_count": 10,
   "metadata": {},
   "outputs": [],
   "source": [
    "info = [{\"title\": response.results[i].title, \"url\": response.results[i].url, \"published_date\": response.results[i].published_date} for i in range(len(response.results))]"
   ]
  },
  {
   "cell_type": "code",
   "execution_count": 11,
   "metadata": {},
   "outputs": [
    {
     "data": {
      "text/plain": [
       "[{'title': 'Are Cats as Loyal as Dogs? - Petfinder',\n",
       "  'url': 'https://www.petfinder.com/cats-and-kittens/behavior/socializing/loyalty-day-are-cats-as-loyal-as-dogs/',\n",
       "  'published_date': '2024-05-01T12:00:00.000Z'},\n",
       " {'title': 'Are cats as loyal as dogs? - Quora',\n",
       "  'url': 'https://www.quora.com/Are-cats-as-loyal-as-dogs',\n",
       "  'published_date': '2016-05-04T12:00:00.000Z'},\n",
       " {'title': 'Cats are are as loyal (if not more) than dogs : r/unpopularopinion',\n",
       "  'url': 'https://www.reddit.com/r/unpopularopinion/comments/80a0l9/cats_are_are_as_loyal_if_not_more_than_dogs/',\n",
       "  'published_date': '2018-02-26T12:00:00.000Z'},\n",
       " {'title': 'Cats are just as loyal to their owners as dogs, study finds',\n",
       "  'url': 'https://www.the-independent.com/life-style/cats-loyal-owners-dogs-behaviour-myth-a9118496.html',\n",
       "  'published_date': '2019-09-24T12:00:00.000Z'},\n",
       " {'title': \"Cats are just as loyal as dogs, says research debunking 'aloof' myth\",\n",
       "  'url': 'https://www.standard.co.uk/news/uk/cats-are-just-as-loyal-as-dogs-according-to-new-research-debunking-aloof-myth-a4244646.html',\n",
       "  'published_date': '2019-09-24T12:00:00.000Z'},\n",
       " {'title': 'Cats are too socially inept to be loyal - Live Science',\n",
       "  'url': 'https://www.livescience.com/cats-do-not-distinguish-human-enemies-friends.html',\n",
       "  'published_date': '2021-03-02T12:00:00.000Z'},\n",
       " {'title': 'Are cats as loyal as dogs? - Pet care/dog experts/cat experts - Quora',\n",
       "  'url': 'https://dogdaycaredogexperts.quora.com/Are-cats-as-loyal-as-dogs',\n",
       "  'published_date': '2021-08-05T12:00:00.000Z'},\n",
       " {'title': 'Are Cats Loyal? What Science Says - Catster',\n",
       "  'url': 'https://www.catster.com/lifestyle/are-cats-loyal/',\n",
       "  'published_date': '2024-08-30T12:00:00.000Z'},\n",
       " {'title': 'Cats Are Just As Loyal To Their Humans As Dogs, Study Finds',\n",
       "  'url': 'https://www.meowingtons.com/blogs/lolcats/cats-are-just-as-loyal-to-their-humans-as-dogs-study-finds?srsltid=AfmBOorILo45XINOCudQ1Ko3xqlOsyHlZR9dUJTQ6Sghu7EcK2R3VItF',\n",
       "  'published_date': '2020-07-16T12:00:00.000Z'},\n",
       " {'title': 'Your Cat Is As Loyal to You as a Dog, According to This Study',\n",
       "  'url': 'https://www.apartmenttherapy.com/cats-loyal-study-36661433',\n",
       "  'published_date': '2019-10-28T12:00:00.000Z'}]"
      ]
     },
     "execution_count": 11,
     "metadata": {},
     "output_type": "execute_result"
    }
   ],
   "source": [
    "info"
   ]
  },
  {
   "cell_type": "code",
   "execution_count": null,
   "metadata": {},
   "outputs": [],
   "source": []
  }
 ],
 "metadata": {
  "kernelspec": {
   "display_name": "base",
   "language": "python",
   "name": "python3"
  },
  "language_info": {
   "codemirror_mode": {
    "name": "ipython",
    "version": 3
   },
   "file_extension": ".py",
   "mimetype": "text/x-python",
   "name": "python",
   "nbconvert_exporter": "python",
   "pygments_lexer": "ipython3",
   "version": "3.12.3"
  }
 },
 "nbformat": 4,
 "nbformat_minor": 2
}
