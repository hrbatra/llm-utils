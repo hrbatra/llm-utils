{
 "cells": [
  {
   "cell_type": "code",
   "execution_count": 3,
   "metadata": {},
   "outputs": [],
   "source": [
    "from internet import basic_search"
   ]
  },
  {
   "cell_type": "code",
   "execution_count": 4,
   "metadata": {},
   "outputs": [
    {
     "data": {
      "text/plain": [
       "SearchResponse(results=[Result(url='https://www.thewildest.com/pet-behavior/cats-vs-dogs', id='https://www.thewildest.com/pet-behavior/cats-vs-dogs', title='Cats vs. Dogs: Behavior, Intelligence, and Care Comparison', score=0.16013412177562714, published_date='2023-10-06T00:00:00.000Z', author='opens in a new tab', image=None, favicon=None, subpages=None, extras=None, text=None, highlights=None, highlight_scores=None, summary=None), Result(url='https://www.youtube.com/watch?v=w-yR9LdXLYU&feature=youtu.be', id='https://www.youtube.com/watch?v=w-yR9LdXLYU&feature=youtu.be', title='Dogs vs. Cats: Homecoming Reactions', score=0.15519145131111145, published_date='2023-02-06T00:00:00.000Z', author='TheEllenShow', image=None, favicon=None, subpages=None, extras=None, text=None, highlights=None, highlight_scores=None, summary=None), Result(url='https://www.good.is/articles/watch-lessons-in-trust-from-a-dog-and-a-cat', id='https://www.good.is/articles/watch-lessons-in-trust-from-a-dog-and-a-cat', title='Watch: Lessons in Trust From a Dog and a Cat', score=0.15292809903621674, published_date='2019-08-02T00:00:00.000Z', author='Yasha Wallin', image=None, favicon=None, subpages=None, extras=None, text=None, highlights=None, highlight_scores=None, summary=None), Result(url='http://messybeast.com/cat-dog.htm', id='http://messybeast.com/cat-dog.htm', title='Are Dogs More Faithful Than Cats?', score=0.15158550441265106, published_date='2023-02-06T00:00:00.000Z', author=None, image=None, favicon=None, subpages=None, extras=None, text=None, highlights=None, highlight_scores=None, summary=None), Result(url='https://www.youtube.com/watch?v=IiilA0dsciY', id='https://www.youtube.com/watch?v=IiilA0dsciY', title='Cats Vs Dogs: Which Makes a Better Pet?', score=0.15113401412963867, published_date='2015-12-25T00:00:00.000Z', author='WatchMojo.com', image=None, favicon=None, subpages=None, extras=None, text=None, highlights=None, highlight_scores=None, summary=None), Result(url='https://www.newscientist.com/article/mg20427381-200-dogs-vs-cats-the-great-pet-showdown/', id='https://www.newscientist.com/article/mg20427381-200-dogs-vs-cats-the-great-pet-showdown/', title='Dogs vs cats: The great pet showdown', score=0.1507243812084198, published_date='2016-06-07T00:00:00.000Z', author='Kate Douglas', image=None, favicon=None, subpages=None, extras=None, text=None, highlights=None, highlight_scores=None, summary=None), Result(url='https://www.hillspet.com/pet-care/resources/differences-between-cats-and-dogs', id='https://www.hillspet.com/pet-care/resources/differences-between-cats-and-dogs', title='Differences Between Dogs and Cats: Learn What Makes Each One Special', score=0.15054985880851746, published_date='2024-01-18T00:00:00.000Z', author='Colgate', image=None, favicon=None, subpages=None, extras=None, text=None, highlights=None, highlight_scores=None, summary=None), Result(url='https://www.huffingtonpost.co.uk/entry/cat-vs-dog-who-loves-humans-more_n_56af85a4e4b077d4fe8ed1ed', id='https://www.huffingtonpost.co.uk/entry/cat-vs-dog-who-loves-humans-more_n_56af85a4e4b077d4fe8ed1ed', title='Who Loves Their Humans More -- Cats Or Dogs? Here’s The Answer', score=0.14889664947986603, published_date='2016-02-01T00:00:00.000Z', author='Elyse Wanshel', image=None, favicon=None, subpages=None, extras=None, text=None, highlights=None, highlight_scores=None, summary=None), Result(url='https://thoughtcatalog.com/lorenzo-jensen-iii/2015/06/17-basic-differences-between-dog-people-and-cat-people/', id='https://thoughtcatalog.com/lorenzo-jensen-iii/2015/06/17-basic-differences-between-dog-people-and-cat-people/', title='17 Basic Differences Between Dog People And Cat People', score=0.14805454015731812, published_date='2015-06-17T00:00:00.000Z', author='By Lorenzo Jensen III Updated January 16, 2024', image=None, favicon=None, subpages=None, extras=None, text=None, highlights=None, highlight_scores=None, summary=None), Result(url='https://metro.co.uk/2016/01/31/your-dog-loves-you-five-times-more-than-your-cat-science-has-proven-it-5653746/', id='https://metro.co.uk/2016/01/31/your-dog-loves-you-five-times-more-than-your-cat-science-has-proven-it-5653746/', title='Dogs love us five times more than cats says BBC documentary', score=0.1463402509689331, published_date='2016-01-31T00:00:00.000Z', author='Jen Mills', image=None, favicon=None, subpages=None, extras=None, text=None, highlights=None, highlight_scores=None, summary=None)], autoprompt_string='Heres a link comparing cat and dog loyalty:', resolved_search_type='neural', auto_date=None)"
      ]
     },
     "execution_count": 4,
     "metadata": {},
     "output_type": "execute_result"
    }
   ],
   "source": [
    "basic_search(\"Are cats as loyal as dogs?\")"
   ]
  },
  {
   "cell_type": "code",
   "execution_count": null,
   "metadata": {},
   "outputs": [],
   "source": [
    "### FIRST TASK - GET THE SEARCH FUNCTIONALITY GOOD ENOUGH SO THAT CURSOR AGENT CAN USE IT TO GET DOCS AND WRITE OUT THE REST OF THIS REPO"
   ]
  }
 ],
 "metadata": {
  "kernelspec": {
   "display_name": "base",
   "language": "python",
   "name": "python3"
  },
  "language_info": {
   "codemirror_mode": {
    "name": "ipython",
    "version": 3
   },
   "file_extension": ".py",
   "mimetype": "text/x-python",
   "name": "python",
   "nbconvert_exporter": "python",
   "pygments_lexer": "ipython3",
   "version": "3.12.3"
  }
 },
 "nbformat": 4,
 "nbformat_minor": 2
}
